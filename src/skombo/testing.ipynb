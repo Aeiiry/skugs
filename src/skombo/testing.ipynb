{
 "cells": [
  {
   "cell_type": "code",
   "execution_count": 3,
   "metadata": {},
   "outputs": [],
   "source": [
    "# sourcery skip: avoid-global-variables\n",
    "import cProfile\n",
    "import os\n",
    "import pstats\n",
    "\n",
    "import skombo\n",
    "from skombo.combo_calc import parse_combos_from_csv,COLS,naiive_damage_calc\n",
    "\n",
    "_log = skombo.LOG\n",
    "\n",
    "\n",
    "test_combo_csv_path = os.path.join(\n",
    "    skombo.ABS_PATH,\n",
    "    (skombo.CHARS.AN.lower() + skombo.TEST_COMBOS_SUFFIX),\n",
    ")\n"
   ]
  },
  {
   "cell_type": "code",
   "execution_count": 9,
   "metadata": {},
   "outputs": [
    {
     "name": "stdout",
     "output_type": "stream",
     "text": [
      "========== Parsing combos from csv [C:\\Users\\mbradbury\\Desktop\\pythonZone\\skugs\\src\\skombo\\annie_test_combos.csv] ==========\n",
      "Parsing [8] combos from csv\n",
      "Combo 0 damage difference: 0.0 [0.0%]\n",
      "Combo 1 damage difference: 0.0 [0.0%]\n",
      "Combo 2 damage difference: 0.0 [0.0%]\n",
      "Combo 3 damage difference: 0.0 [0.0%]\n",
      "Combo 4 damage difference: 0.0 [0.0%]\n",
      "Combo 5 damage difference: 0.0 [0.0%]\n",
      "Combo 6 damage difference: 0.0 [0.0%]\n",
      "Combo 7 damage difference: 27.0 [0.363%]\n"
     ]
    }
   ],
   "source": [
    "combos = parse_combos_from_csv(\n",
    "    test_combo_csv_path,\n",
    ")\n",
    "\n",
    "\n",
    "combo_dfs, combo_damage = combos[0], combos[1]\n",
    "combo_dfs = [naiive_damage_calc(combo) for combo in combo_dfs]\n",
    "\n",
    "for i, combo in enumerate(combo_dfs):\n",
    "    combo_expected_damage = combo_damage[i]\n",
    "    combo_calculated_damage = combo[\"summed_damage\"].iloc[-1]\n",
    "\n",
    "    damage_diff = combo_expected_damage - combo_calculated_damage\n",
    "    damage_diff_percent = round(damage_diff / combo_expected_damage * 100, 3)\n",
    "\n",
    "\n",
    "    print(f\"Combo {i} damage difference: {damage_diff} [{damage_diff_percent}%]\")"
   ]
  }
 ],
 "metadata": {
  "kernelspec": {
   "display_name": ".venv",
   "language": "python",
   "name": "python3"
  },
  "language_info": {
   "codemirror_mode": {
    "name": "ipython",
    "version": 3
   },
   "file_extension": ".py",
   "mimetype": "text/x-python",
   "name": "python",
   "nbconvert_exporter": "python",
   "pygments_lexer": "ipython3",
   "version": "3.11.3"
  },
  "orig_nbformat": 4
 },
 "nbformat": 4,
 "nbformat_minor": 2
}
