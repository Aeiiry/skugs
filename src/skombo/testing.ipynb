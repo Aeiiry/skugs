{
 "cells": [
  {
   "cell_type": "code",
   "execution_count": 1,
   "metadata": {},
   "outputs": [
    {
     "name": "stdout",
     "output_type": "stream",
     "text": [
      "Constants initialized\n",
      "ABS_PATH: C:\\Users\\micah\\repos\\skugs\\src\\skombo\n",
      "MODULE_NAME: skombo\n",
      "Logger initialized\n"
     ]
    }
   ],
   "source": [
    "# sourcery skip: avoid-global-variables\n",
    "\n",
    "import pandas as pd\n",
    "import os\n",
    "\n",
    "import skombo\n",
    "from tabulate import tabulate\n",
    "import matplotlib\n",
    "from pandas.io.formats.style import Styler\n",
    "from skombo.fd_ops import get_fd,clean_fd,FdBotCsvManager,FrameData\n",
    "\n",
    "get_fd()\n",
    "FD = clean_fd()\n",
    "\n",
    "LOG = skombo.LOG\n",
    "\n",
    "\n",
    "\n",
    "pd.options.display.max_rows = None # type: ignore\n",
    "pd.options.display.max_columns = None # type: ignore\n",
    "pd.options.display.width = None # type: ignore\n",
    "pd.options.display.max_colwidth = None # type: ignore\n",
    "pd.options.display.precision = 2 # type: ignore\n",
    "pd.options.display.float_format = \"{:,.2f}\".format # type: ignore"
   ]
  },
  {
   "cell_type": "code",
   "execution_count": 2,
   "metadata": {},
   "outputs": [
    {
     "name": "stdout",
     "output_type": "stream",
     "text": [
      "========== Parsing combos from csv [C:\\Users\\micah\\repos\\skugs\\src\\skombo\\annie_test_combos.csv] ==========\n",
      "Parsing [8] combos from csv\n",
      "Parsing combo for [ANNIE] : ['2LK', '2MK', '2HK']\n"
     ]
    },
    {
     "ename": "TypeError",
     "evalue": "unhashable type: 'slice'",
     "output_type": "error",
     "traceback": [
      "\u001b[1;31m---------------------------------------------------------------------------\u001b[0m",
      "\u001b[1;31mTypeError\u001b[0m                                 Traceback (most recent call last)",
      "Cell \u001b[1;32mIn[2], line 15\u001b[0m\n\u001b[0;32m     11\u001b[0m     \u001b[39mreturn\u001b[39;00m styler\n\u001b[0;32m     13\u001b[0m FD\u001b[39m.\u001b[39mstyle\u001b[39m.\u001b[39mpipe(make_look_good)  \n\u001b[1;32m---> 15\u001b[0m combos, combo_damage \u001b[39m=\u001b[39m parse_combos_from_csv(test_combo_csv_path, calc_damage\u001b[39m=\u001b[39;49m\u001b[39mTrue\u001b[39;49;00m)\n\u001b[0;32m     17\u001b[0m \u001b[39mfor\u001b[39;00m i, combo \u001b[39min\u001b[39;00m \u001b[39menumerate\u001b[39m(combos):\n\u001b[0;32m     18\u001b[0m     \u001b[39m#LOG.info(f\"Combo: \\n{tabulate(combo, headers='keys', tablefmt='psql')}\")  # type: ignore\u001b[39;00m\n\u001b[0;32m     19\u001b[0m     damage_diff: \u001b[39mint\u001b[39m \u001b[39m=\u001b[39m (\n\u001b[0;32m     20\u001b[0m         combo_damage[i] \u001b[39m-\u001b[39m combo\u001b[39m.\u001b[39mat[combo\u001b[39m.\u001b[39m\u001b[39m__len__\u001b[39m() \u001b[39m-\u001b[39m \u001b[39m1\u001b[39m, \u001b[39m\"\u001b[39m\u001b[39msummed_damage\u001b[39m\u001b[39m\"\u001b[39m]\n\u001b[0;32m     21\u001b[0m     )\n",
      "File \u001b[1;32m~\\repos\\skugs\\src\\skombo\\combo_calc.py:82\u001b[0m, in \u001b[0;36mparse_combos_from_csv\u001b[1;34m(csv_path, calc_damage)\u001b[0m\n\u001b[0;32m     79\u001b[0m combos_df: pd\u001b[39m.\u001b[39mDataFrame \u001b[39m=\u001b[39m pd\u001b[39m.\u001b[39mread_csv(csv_path)\n\u001b[0;32m     80\u001b[0m LOG\u001b[39m.\u001b[39minfo(\u001b[39mf\u001b[39m\u001b[39m\"\u001b[39m\u001b[39mParsing [\u001b[39m\u001b[39m{\u001b[39;00m\u001b[39mlen\u001b[39m(combos_df\u001b[39m.\u001b[39mindex)\u001b[39m}\u001b[39;00m\u001b[39m] combos from csv\u001b[39m\u001b[39m\"\u001b[39m)\n\u001b[1;32m---> 82\u001b[0m combo_dfs: \u001b[39mlist\u001b[39m[pd\u001b[39m.\u001b[39mDataFrame] \u001b[39m=\u001b[39m [\n\u001b[0;32m     83\u001b[0m     (\n\u001b[0;32m     84\u001b[0m         parse_combo_from_string(\n\u001b[0;32m     85\u001b[0m             combos_df[COLS\u001b[39m.\u001b[39;49mchar][index], combos_df[\u001b[39m\"\u001b[39;49m\u001b[39mnotation\u001b[39;49m\u001b[39m\"\u001b[39;49m][index]\n\u001b[0;32m     86\u001b[0m         )\n\u001b[0;32m     87\u001b[0m     )\n\u001b[0;32m     88\u001b[0m     \u001b[39mfor\u001b[39;49;00m index \u001b[39min\u001b[39;49;00m \u001b[39mrange\u001b[39;49m(\u001b[39mlen\u001b[39;49m(combos_df\u001b[39m.\u001b[39;49mindex))\n\u001b[0;32m     89\u001b[0m ]\n\u001b[0;32m     91\u001b[0m combos_expected_damage: \u001b[39mlist\u001b[39m[\u001b[39mint\u001b[39m] \u001b[39m=\u001b[39m combos_df[COLS\u001b[39m.\u001b[39mdmg]\u001b[39m.\u001b[39mtolist()\n\u001b[0;32m     93\u001b[0m \u001b[39mif\u001b[39;00m calc_damage:\n",
      "File \u001b[1;32m~\\repos\\skugs\\src\\skombo\\combo_calc.py:84\u001b[0m, in \u001b[0;36m<listcomp>\u001b[1;34m(.0)\u001b[0m\n\u001b[0;32m     79\u001b[0m combos_df: pd\u001b[39m.\u001b[39mDataFrame \u001b[39m=\u001b[39m pd\u001b[39m.\u001b[39mread_csv(csv_path)\n\u001b[0;32m     80\u001b[0m LOG\u001b[39m.\u001b[39minfo(\u001b[39mf\u001b[39m\u001b[39m\"\u001b[39m\u001b[39mParsing [\u001b[39m\u001b[39m{\u001b[39;00m\u001b[39mlen\u001b[39m(combos_df\u001b[39m.\u001b[39mindex)\u001b[39m}\u001b[39;00m\u001b[39m] combos from csv\u001b[39m\u001b[39m\"\u001b[39m)\n\u001b[0;32m     82\u001b[0m combo_dfs: \u001b[39mlist\u001b[39m[pd\u001b[39m.\u001b[39mDataFrame] \u001b[39m=\u001b[39m [\n\u001b[0;32m     83\u001b[0m     (\n\u001b[1;32m---> 84\u001b[0m         parse_combo_from_string(\n\u001b[0;32m     85\u001b[0m             combos_df[COLS\u001b[39m.\u001b[39;49mchar][index], combos_df[\u001b[39m\"\u001b[39;49m\u001b[39mnotation\u001b[39;49m\u001b[39m\"\u001b[39;49m][index]\n\u001b[0;32m     86\u001b[0m         )\n\u001b[0;32m     87\u001b[0m     )\n\u001b[0;32m     88\u001b[0m     \u001b[39mfor\u001b[39;00m index \u001b[39min\u001b[39;00m \u001b[39mrange\u001b[39m(\u001b[39mlen\u001b[39m(combos_df\u001b[39m.\u001b[39mindex))\n\u001b[0;32m     89\u001b[0m ]\n\u001b[0;32m     91\u001b[0m combos_expected_damage: \u001b[39mlist\u001b[39m[\u001b[39mint\u001b[39m] \u001b[39m=\u001b[39m combos_df[COLS\u001b[39m.\u001b[39mdmg]\u001b[39m.\u001b[39mtolist()\n\u001b[0;32m     93\u001b[0m \u001b[39mif\u001b[39;00m calc_damage:\n",
      "File \u001b[1;32m~\\repos\\skugs\\src\\skombo\\combo_calc.py:154\u001b[0m, in \u001b[0;36mparse_combo_from_string\u001b[1;34m(character, combo_string)\u001b[0m\n\u001b[0;32m    149\u001b[0m LOG\u001b[39m.\u001b[39minfo(\u001b[39mf\u001b[39m\u001b[39m\"\u001b[39m\u001b[39mParsing combo for [\u001b[39m\u001b[39m{\u001b[39;00mcharacter\u001b[39m}\u001b[39;00m\u001b[39m] : \u001b[39m\u001b[39m{\u001b[39;00mcombo_move_names\u001b[39m.\u001b[39mto_list()\u001b[39m}\u001b[39;00m\u001b[39m\"\u001b[39m)\n\u001b[0;32m    150\u001b[0m \u001b[39m# Attempt to find each move in the combo string in the character's moves from the frame data\u001b[39;00m\n\u001b[0;32m    151\u001b[0m \u001b[39m# If a move is not found, check each item in the alt_names list for the move\u001b[39;00m\n\u001b[0;32m    152\u001b[0m \n\u001b[0;32m    153\u001b[0m \u001b[39m# Search character_moves pd.DataFrame for move names or alternative names\u001b[39;00m\n\u001b[1;32m--> 154\u001b[0m combo_df: pd\u001b[39m.\u001b[39mDataFrame \u001b[39m=\u001b[39m find_combo_moves(character_moves, combo_move_names)\n\u001b[0;32m    156\u001b[0m \u001b[39m# Find the move with the highest similarity score if multiple matches exist\u001b[39;00m\n\u001b[0;32m    157\u001b[0m \u001b[39m# if len(found_moves) > 1:\u001b[39;00m\n\u001b[0;32m    158\u001b[0m \u001b[39m# found_moves = best_match(combo_moves, found_moves)\u001b[39;00m\n\u001b[0;32m    160\u001b[0m combo_calc_df: pd\u001b[39m.\u001b[39mDataFrame \u001b[39m=\u001b[39m fd_to_combo_df(combo_df)\n",
      "File \u001b[1;32m~\\repos\\skugs\\src\\skombo\\combo_calc.py:340\u001b[0m, in \u001b[0;36mfind_combo_moves\u001b[1;34m(character_moves, combo_moves)\u001b[0m\n\u001b[0;32m    337\u001b[0m     move_series \u001b[39m=\u001b[39m get_fd_for_single_move(character_moves, move_name)\n\u001b[0;32m    339\u001b[0m     \u001b[39m# Add the move name to the move_name_series pd.DataFrame\u001b[39;00m\n\u001b[1;32m--> 340\u001b[0m     combo_df\u001b[39m.\u001b[39mloc[move_series\u001b[39m.\u001b[39mname,:] \u001b[39m=\u001b[39m move_series\u001b[39m.\u001b[39mtranspose()\n\u001b[0;32m    342\u001b[0m combo_df \u001b[39m=\u001b[39m character_specific_operations(character, combo_df, character_moves)\n\u001b[0;32m    343\u001b[0m \u001b[39mreturn\u001b[39;00m combo_df\n",
      "File \u001b[1;32mc:\\Users\\micah\\repos\\skugs\\.venv\\Lib\\site-packages\\pandas\\core\\frame.py:3960\u001b[0m, in \u001b[0;36mDataFrame.__setitem__\u001b[1;34m(self, key, value)\u001b[0m\n\u001b[0;32m   3957\u001b[0m     \u001b[39mself\u001b[39m\u001b[39m.\u001b[39m_setitem_array([key], value)\n\u001b[0;32m   3958\u001b[0m \u001b[39melse\u001b[39;00m:\n\u001b[0;32m   3959\u001b[0m     \u001b[39m# set column\u001b[39;00m\n\u001b[1;32m-> 3960\u001b[0m     \u001b[39mself\u001b[39;49m\u001b[39m.\u001b[39;49m_set_item(key, value)\n",
      "File \u001b[1;32mc:\\Users\\micah\\repos\\skugs\\.venv\\Lib\\site-packages\\pandas\\core\\frame.py:4156\u001b[0m, in \u001b[0;36mDataFrame._set_item\u001b[1;34m(self, key, value)\u001b[0m\n\u001b[0;32m   4144\u001b[0m \u001b[39m\u001b[39m\u001b[39m\"\"\"\u001b[39;00m\n\u001b[0;32m   4145\u001b[0m \u001b[39mAdd series to DataFrame in specified column.\u001b[39;00m\n\u001b[0;32m   4146\u001b[0m \n\u001b[1;32m   (...)\u001b[0m\n\u001b[0;32m   4151\u001b[0m \u001b[39mensure homogeneity.\u001b[39;00m\n\u001b[0;32m   4152\u001b[0m \u001b[39m\"\"\"\u001b[39;00m\n\u001b[0;32m   4153\u001b[0m value \u001b[39m=\u001b[39m \u001b[39mself\u001b[39m\u001b[39m.\u001b[39m_sanitize_column(value)\n\u001b[0;32m   4155\u001b[0m \u001b[39mif\u001b[39;00m (\n\u001b[1;32m-> 4156\u001b[0m     key \u001b[39min\u001b[39;49;00m \u001b[39mself\u001b[39;49m\u001b[39m.\u001b[39;49mcolumns\n\u001b[0;32m   4157\u001b[0m     \u001b[39mand\u001b[39;00m value\u001b[39m.\u001b[39mndim \u001b[39m==\u001b[39m \u001b[39m1\u001b[39m\n\u001b[0;32m   4158\u001b[0m     \u001b[39mand\u001b[39;00m \u001b[39mnot\u001b[39;00m is_extension_array_dtype(value)\n\u001b[0;32m   4159\u001b[0m ):\n\u001b[0;32m   4160\u001b[0m     \u001b[39m# broadcast across multiple columns if necessary\u001b[39;00m\n\u001b[0;32m   4161\u001b[0m     \u001b[39mif\u001b[39;00m \u001b[39mnot\u001b[39;00m \u001b[39mself\u001b[39m\u001b[39m.\u001b[39mcolumns\u001b[39m.\u001b[39mis_unique \u001b[39mor\u001b[39;00m \u001b[39misinstance\u001b[39m(\u001b[39mself\u001b[39m\u001b[39m.\u001b[39mcolumns, MultiIndex):\n\u001b[0;32m   4162\u001b[0m         existing_piece \u001b[39m=\u001b[39m \u001b[39mself\u001b[39m[key]\n",
      "File \u001b[1;32mc:\\Users\\micah\\repos\\skugs\\.venv\\Lib\\site-packages\\pandas\\core\\indexes\\base.py:5143\u001b[0m, in \u001b[0;36mIndex.__contains__\u001b[1;34m(self, key)\u001b[0m\n\u001b[0;32m   5108\u001b[0m \u001b[39mdef\u001b[39;00m \u001b[39m__contains__\u001b[39m(\u001b[39mself\u001b[39m, key: Any) \u001b[39m-\u001b[39m\u001b[39m>\u001b[39m \u001b[39mbool\u001b[39m:\n\u001b[0;32m   5109\u001b[0m \u001b[39m    \u001b[39m\u001b[39m\"\"\"\u001b[39;00m\n\u001b[0;32m   5110\u001b[0m \u001b[39m    Return a boolean indicating whether the provided key is in the index.\u001b[39;00m\n\u001b[0;32m   5111\u001b[0m \n\u001b[1;32m   (...)\u001b[0m\n\u001b[0;32m   5141\u001b[0m \u001b[39m    False\u001b[39;00m\n\u001b[0;32m   5142\u001b[0m \u001b[39m    \"\"\"\u001b[39;00m\n\u001b[1;32m-> 5143\u001b[0m     \u001b[39mhash\u001b[39;49m(key)\n\u001b[0;32m   5144\u001b[0m     \u001b[39mtry\u001b[39;00m:\n\u001b[0;32m   5145\u001b[0m         \u001b[39mreturn\u001b[39;00m key \u001b[39min\u001b[39;00m \u001b[39mself\u001b[39m\u001b[39m.\u001b[39m_engine\n",
      "\u001b[1;31mTypeError\u001b[0m: unhashable type: 'slice'"
     ]
    }
   ],
   "source": [
    "from skombo import COLS\n",
    "from skombo import CHARS\n",
    "from skombo.combo_calc import parse_combos_from_csv\n",
    "from skombo.utils import filter_dict\n",
    "#FD.loc[CHARS.AN, columns_to_keep].style.pipe(make_look_good)  # type: ignore\n",
    "\n",
    "def make_look_good(styler: Styler):\n",
    "    styler.set_caption(\"Frame Data\")\n",
    "    styler.background_gradient(cmap=\"Blues\")\n",
    "    styler.set_properties(**{\"border\": \"1px solid black\", \"border-collapse\": \"collapse\"})\n",
    "    return styler\n",
    "\n",
    "FD.style.pipe(make_look_good)  \n",
    "\n",
    "combos, combo_damage = parse_combos_from_csv(test_combo_csv_path, calc_damage=True)\n",
    "\n",
    "for i, combo in enumerate(combos):\n",
    "    #LOG.info(f\"Combo: \\n{tabulate(combo, headers='keys', tablefmt='psql')}\")  # type: ignore\n",
    "    damage_diff: int = (\n",
    "        combo_damage[i] - combo.at[combo.__len__() - 1, \"summed_damage\"]\n",
    "    )\n",
    "    display(combo.style.pipe(make_look_good))\n",
    "    damage_diff_percent: float = round(abs(damage_diff / combo_damage[i] * 100), 2)\n",
    "    LOG.info(f\"Damage difference: {damage_diff_percent}%\")\n",
    "\n"
   ]
  }
 ],
 "metadata": {
  "kernelspec": {
   "display_name": ".venv",
   "language": "python",
   "name": "python3"
  },
  "language_info": {
   "codemirror_mode": {
    "name": "ipython",
    "version": 3
   },
   "file_extension": ".py",
   "mimetype": "text/x-python",
   "name": "python",
   "nbconvert_exporter": "python",
   "pygments_lexer": "ipython3",
   "version": "3.11.3"
  },
  "orig_nbformat": 4
 },
 "nbformat": 4,
 "nbformat_minor": 2
}
